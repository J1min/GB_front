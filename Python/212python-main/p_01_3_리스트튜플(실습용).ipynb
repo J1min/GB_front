{
  "nbformat": 4,
  "nbformat_minor": 2,
  "metadata": {
    "colab": {
      "name": "[Template] p_01_3_리스트튜플(실습용).ipynb의 사본",
      "provenance": [],
      "collapsed_sections": []
    },
    "kernelspec": {
      "name": "python3",
      "display_name": "Python 3.9.6 64-bit"
    },
    "language_info": {
      "name": "python",
      "version": "3.9.6",
      "mimetype": "text/x-python",
      "codemirror_mode": {
        "name": "ipython",
        "version": 3
      },
      "pygments_lexer": "ipython3",
      "nbconvert_exporter": "python",
      "file_extension": ".py"
    },
    "interpreter": {
      "hash": "26d226b27428e5a93bcfd2336d2bdab30e76d3084eedf1e44520bab54c15b048"
    }
  },
  "cells": [
    {
      "cell_type": "markdown",
      "source": [
        "# **컬렉션자료형(collection data type)**\n",
        "+ 여러 요소를 묶어서 처리할 수 있는 자료형 \n",
        "+ 각 요소에 접근하는 방법이 제공\n",
        "\n",
        "![대체 텍스트](https://drive.google.com/uc?export=view&id=1qNHKZPJv546haViE6KBY3kg8gUlHJm_F)"
      ],
      "metadata": {
        "id": "xqCNF5Jkjrl1"
      }
    },
    {
      "cell_type": "markdown",
      "source": [
        "## **리스트(List)**\n",
        "\n",
        "+ **특징**\n",
        " - 리스트의 각 요소는 순서를 가지고 있음\n",
        " - 대괄호([])로 작성되며 각 요소는 쉼표(,)로 구분\n",
        " - 요소를 추가, 수정, 삭제 가능\n",
        "+ **리스트 생성**\n",
        " - []나 리스트 함수\n",
        "+ **인덱싱**\n",
        " - 요소의 선택은 0부터 시작되는 인덱스로 접근\n",
        " - 리스트명[인덱스]\n",
        "+ **슬라이싱**\n",
        " - 요소의 일부분 선택\n",
        " - 리스트명[시작인덱스:종료인덱스] : 종료인덱스는 포함되지 않음\n",
        "+ **리스트 연산** \n",
        " - $+$ 연산 : 리스트와 리스트 연결\n",
        " - $*$ 연산 : 리스트 요소 반복\n",
        "\n",
        "+ **리스트 추가**\n",
        " - 리스트명.append(추가요소) : 마지막에 추가\n",
        " - 리스트명.insert(인덱스, 추가요소) : 해당 인덱스에 요소 추가\n",
        "+ **리스트 삭제**\n",
        " - 리스트명.pop() : 마지막 요소 삭제\n",
        " - 리스트명.pop(인덱스) : 해당 인덱스 요소 삭제\n",
        " - 리스트명.remove(요소값) : 해당 요소값 삭제\n",
        " - 해당 값이 없으면 오류\n",
        "+ **리스트 수정** \n",
        " - 리스트명[인덱스]=변경값\n",
        "+ **리스트 위치 반환**\n",
        " - 리스트명.index(요소값)\n",
        " - 해당 요소값의 위치를 반환\n",
        " - 여러 개 요소가 존재하면 첫번째 위치 반환하고 없으면 오류\n",
        "+ **리스트 요소 개수 구하기**\n",
        " - 리스트명.count(요소값)\n",
        "+ **리스트 정렬**\n",
        " - 리스트명.sort() : 오름차순\n",
        " - 리스트명.sort(reverse=True): 내림차순\n",
        "+ **리스트 뒤집기**\n",
        " - 리스트명.revers() : 요소를 역순으로 뒤집어 줌\n"
      ],
      "metadata": {
        "id": "yCrF5QdUHZBj"
      }
    },
    {
      "cell_type": "markdown",
      "source": [
        "<img src ='https://github.com/teacher-jiejie/allinone_AI/blob/images/7_%EB%A6%AC%EC%8A%A4%ED%8A%B8%EC%9D%B8%EB%8D%B1%EC%8A%A4.png?raw=true' width=600>"
      ],
      "metadata": {
        "id": "TKe3-L5lNYYN"
      }
    },
    {
      "cell_type": "markdown",
      "source": [
        "## 리스트 실습"
      ],
      "metadata": {
        "id": "qiykaS5CFuWh"
      }
    },
    {
      "cell_type": "markdown",
      "source": [
        "> 실생활의 리스트\n",
        "\n",
        "\n",
        "Netflix 인기 콘텐츠 \n",
        "   1. 오징어게임(squid game)\n",
        "   2. D.★.P\n",
        "   3. 킹덤\n",
        "   4. 종이의 집\n",
        "   5. 스위트 홈\n",
        "\n",
        "멸종위기야생동·식물 Ⅰ급(총 11종)\n",
        "1. 늑대 Canis lupus coreanus\n",
        "2. 대륙사슴 Cervus nippon hortulorum\n",
        "3. 반달가슴곰 Ursus thibetanus ussuricus\n",
        "4. 붉은박쥐 Myotis formosus chofukusei\n",
        "5. 사향노루 Moschus moschiferus parvipes\n",
        "6. 산양 Naemorhedus caudatus\n",
        "7. 수달 Lutra lutra\n",
        "8. 시라소니 Lynx lynx\n",
        "9. 여우 Vulpes vulpus peculiosa\n",
        "10. 표범 Panthera pardus orientalis\n",
        "11. 호랑이 Panthera tigris altaica\n",
        "</br>\n",
        "\n",
        "> 파이썬의 리스트\n",
        "\n",
        "```\n",
        "- 여러 데이터를 한 번에 묶어서 표현(collection data)\n",
        "- 리스트 이름 = [데이터1, 데이터2, ..., 데이터n]\n",
        "- 마이너스 인덱스 사용\n",
        "```\n",
        "<img src='https://github.com/teacher-jiejie/allinone_AI/blob/images/6_%EB%A6%AC%EC%8A%A4%ED%8A%B8%EA%B0%9C%EB%85%90.png?raw=true' width=600>\n",
        "\n",
        "<img src = 'https://github.com/teacher-jiejie/allinone_AI/blob/images/8_%EB%A6%AC%EC%8A%A4%ED%8A%B8%20%EB%A7%88%EC%9D%B4%EB%84%88%EC%8A%A4%EC%9D%B8%EB%8D%B1%EC%8A%A4.png?raw=true' width=300>\n",
        "\n",
        "\n",
        "\n"
      ],
      "metadata": {
        "id": "6n9IjADZt4Z5"
      }
    },
    {
      "cell_type": "code",
      "execution_count": null,
      "source": [
        "# 리스트 생성 : [] or list()\r\n"
      ],
      "outputs": [],
      "metadata": {
        "id": "KkIT6sPpB8Yc"
      }
    },
    {
      "cell_type": "code",
      "execution_count": null,
      "source": [
        "# 인덱싱 : 요소는 인덱스로 접근(0부터 시작)\r\n",
        "\r\n",
        "# 슬라이싱 : 요소 일부분 선택\r\n"
      ],
      "outputs": [],
      "metadata": {
        "id": "2x1UHy_ctw41"
      }
    },
    {
      "cell_type": "code",
      "execution_count": null,
      "source": [
        "# 리스트 연산\r\n",
        "# + 연산 : 리스트와 리스트의 연결\r\n",
        "# * 연산 : 리스트 요소 반복\r\n"
      ],
      "outputs": [],
      "metadata": {
        "id": "-Mzib4lktw41"
      }
    },
    {
      "cell_type": "code",
      "execution_count": null,
      "source": [
        "# 리스트 추가\r\n",
        "# 리스트명.append(추가요소) : 마지막에 추가\r\n",
        "# 리스트명.insert(인덱스, 추가요소) : 해당 인덱스에 요소 추가\r\n",
        "bts = ['정국', '지민', '제이홉', '뷔' ]\r\n"
      ],
      "outputs": [],
      "metadata": {
        "id": "OCZ-nSTEtw42"
      }
    },
    {
      "cell_type": "code",
      "execution_count": null,
      "source": [
        "# 리스트 삭제\r\n",
        "# 리스트명.pop() : 마지막 요소 삭제\r\n",
        "# 리스트명.pop(인덱스) : 해당 인덱스 요소 삭제\r\n",
        "# 리스트명.remove(요소값) : 해당 요소값 삭제, 해당값이 없으면 오류\r\n",
        "bts.pop()\r\n"
      ],
      "outputs": [],
      "metadata": {
        "id": "Lmjl0voOtw42"
      }
    },
    {
      "cell_type": "code",
      "execution_count": null,
      "source": [
        "# 리스트 위치 반환\r\n",
        "# 리스트명.index(요소값) : 해당 요소값의 위치를 반환, 없으면 오류\r\n",
        "bts\r\n"
      ],
      "outputs": [],
      "metadata": {
        "id": "oTTA1cjBtw43"
      }
    },
    {
      "cell_type": "code",
      "execution_count": null,
      "source": [
        "# 리스트 요소 개수 구하기\r\n",
        "# 리스트명.count(요소값)\r\n",
        "bts.count('지민')"
      ],
      "outputs": [],
      "metadata": {
        "id": "Hz1d9FMztw44"
      }
    },
    {
      "cell_type": "code",
      "execution_count": null,
      "source": [
        "# 리스트 정렬\r\n",
        "# 리스트명.sort() : 오름차순\r\n",
        "# 리스트명.sort(reverse = True) : 내림차순\r\n",
        "bts = ['RM', '정국', '지민', '제이홉', '뷔', '슈가', '진']\r\n",
        "bts.sort()\r\n",
        "print(bts)\r\n",
        "# bts.sort(reverse=True)\r\n",
        "# print(bts)"
      ],
      "outputs": [],
      "metadata": {
        "id": "-UWG4bWwtw44"
      }
    },
    {
      "cell_type": "code",
      "execution_count": 1,
      "source": [
        "# 리스트 뒤집기\r\n",
        "# 리스트명.reverse() : 요소를 역순으로 뒤집어 줌\r\n",
        "bts = ['RM', '정국', '지민', '제이홉', '뷔', '슈가', '진']\r\n",
        "bts.reverse()\r\n",
        "print(bts)"
      ],
      "outputs": [
        {
          "output_type": "stream",
          "name": "stdout",
          "text": [
            "['진', '슈가', '뷔', '제이홉', '지민', '정국', 'RM']\n"
          ]
        }
      ],
      "metadata": {
        "id": "Gs9zqfyrtw44"
      }
    },
    {
      "cell_type": "markdown",
      "source": [
        "### 리스트 슬라이싱\n",
        "\n",
        "\n",
        "> 리스트[시작숫자 : 종료숫자]\n",
        "\n",
        "<img src = 'https://github.com/teacher-jiejie/allinone_AI/blob/images/9_%EB%A6%AC%EC%8A%A4%ED%8A%B8%EC%8A%AC%EB%9D%BC%EC%9D%B4%EC%8B%B1.png?raw=true' width=500>\n",
        "\n",
        "\n",
        "종료숫자-1 까지 잘라내는 것\n",
        "\n",
        "```\n",
        "abc[2:5]       # abc[2]~abc[4]까지 슬라이싱\n",
        "abc[4:9]       # abc[4]~abc[8]까지 슬라이싱\n",
        "```\n",
        "\n",
        "\n",
        "\n",
        "\n",
        "```\n",
        "food = ['피자','치킨','떡볶이','스테이크','파스타']\n",
        "```\n",
        "\n",
        "\n",
        "\n",
        "\n",
        "\n",
        "\n"
      ],
      "metadata": {
        "id": "VcinMKvjPO_n"
      }
    },
    {
      "cell_type": "markdown",
      "source": [
        "### (연습문제) 빈 리스트 만들고 데이터 추가하기\n",
        ": 버킷리스트 10가지를 입력받아 출력하는 프로그램\n",
        ": 10번을 계속 입력받고, q 종료조건 추가"
      ],
      "metadata": {
        "id": "IGU9mv18M_PG"
      }
    },
    {
      "cell_type": "code",
      "execution_count": null,
      "source": [
        "# to_do list\r\n",
        "to_do = []\r\n",
        "to_do.append('파이썬 공부')\r\n",
        "print(to_do)"
      ],
      "outputs": [
        {
          "output_type": "stream",
          "name": "stdout",
          "text": [
            "['파이썬 공부']\n"
          ]
        }
      ],
      "metadata": {
        "id": "GYzqWARONDK-",
        "colab": {
          "base_uri": "https://localhost:8080/"
        },
        "outputId": "56e07439-4235-4604-8db6-20d17b6cec21"
      }
    },
    {
      "cell_type": "code",
      "execution_count": null,
      "source": [
        "# 버킷리스트(Bucket list)를 입력받아 출력하기(종료조건 추가:'q' 입력 종료)\r\n",
        "item = \"\"\r\n",
        "bucket = []\r\n",
        "for i in range(10):\r\n",
        "  if(item=='q'):\r\n",
        "      break;\r\n",
        "  else:\r\n",
        "    item = input('What are the top 10 bucket list items?(quit : q)')\r\n",
        "    bucket.append(item);\r\n",
        "\r\n",
        "for i in range(10):\r\n",
        "  print(bucket[i])"
      ],
      "outputs": [],
      "metadata": {
        "id": "0r1zYRJ_vrp8"
      }
    },
    {
      "cell_type": "markdown",
      "source": [
        "### (실습) 문자열 슬라이싱\n",
        "```\n",
        "date = '2021-09-27 월요일'\n",
        "```\n",
        "1. 날짜(년월일), 요일을 분리하기 - 공백기준 split()<br>\n",
        "2. 월, 일을 month, day 변수에 저장하기(정수형 자료형)"
      ],
      "metadata": {
        "id": "Teyp7VgNO0Rt"
      }
    },
    {
      "cell_type": "code",
      "execution_count": null,
      "source": [
        "date = '2021-09-27 월요일'"
      ],
      "outputs": [],
      "metadata": {
        "id": "EsKzoWaCO4u5"
      }
    },
    {
      "cell_type": "code",
      "execution_count": null,
      "source": [
        "# 공백을 기준으로 split\r\n",
        "a = date.split()\r\n",
        "a\r\n",
        "# -을 기준으로 split\r\n",
        "b = date.split('-')\r\n",
        "b"
      ],
      "outputs": [
        {
          "output_type": "execute_result",
          "data": {
            "text/plain": [
              "['2021', '09', '27 월요일']"
            ]
          },
          "metadata": {},
          "execution_count": 13
        }
      ],
      "metadata": {
        "id": "MlG5GnJaWhK-",
        "colab": {
          "base_uri": "https://localhost:8080/"
        },
        "outputId": "f5cc0bf9-42e2-454f-939b-ee1844c8171e"
      }
    },
    {
      "cell_type": "code",
      "execution_count": null,
      "source": [
        "# split의 결과는 리스트이므로 인덱스 사용 가능\r\n",
        "c = date.split('-')[1]\r\n",
        "type(c)"
      ],
      "outputs": [
        {
          "output_type": "execute_result",
          "data": {
            "text/plain": [
              "str"
            ]
          },
          "metadata": {},
          "execution_count": 19
        }
      ],
      "metadata": {
        "id": "2XvQBQ3FWpCh",
        "colab": {
          "base_uri": "https://localhost:8080/"
        },
        "outputId": "537146d4-1011-453b-fd38-f5dbdbba91ca"
      }
    },
    {
      "cell_type": "code",
      "execution_count": null,
      "source": [
        "# split의 결과는 문자이므로 숫자로 변환해야 함\r\n",
        "c = int(date.split('-')[1])\r\n",
        "type(c)"
      ],
      "outputs": [
        {
          "output_type": "execute_result",
          "data": {
            "text/plain": [
              "int"
            ]
          },
          "metadata": {},
          "execution_count": 20
        }
      ],
      "metadata": {
        "id": "l6klIuCRWqxH",
        "colab": {
          "base_uri": "https://localhost:8080/"
        },
        "outputId": "accc76ea-ec46-4cd3-8075-cee1df0b11fe"
      }
    },
    {
      "cell_type": "code",
      "execution_count": null,
      "source": [
        "# 월만 골라내기\r\n",
        "date = '2021-09-27 월요일'\r\n",
        "c = int(date.split('-')[1])\r\n",
        "print(c)"
      ],
      "outputs": [
        {
          "output_type": "execute_result",
          "data": {
            "text/plain": [
              "9"
            ]
          },
          "metadata": {},
          "execution_count": 21
        }
      ],
      "metadata": {
        "id": "VKwiDJzmtw48",
        "colab": {
          "base_uri": "https://localhost:8080/"
        },
        "outputId": "4a55fb85-643f-4660-d41f-39f9201b5250"
      }
    },
    {
      "cell_type": "code",
      "execution_count": null,
      "source": [
        "# 일만 골라내기\r\n",
        "date = '2021-09-27 월요일'\r\n",
        "c = date.split('-')[2].split()[0]\r\n",
        "print(c)"
      ],
      "outputs": [],
      "metadata": {
        "id": "6cjmhjlMtw48"
      }
    },
    {
      "cell_type": "code",
      "execution_count": null,
      "source": [
        "# 요일만 골라내기\r\n",
        "date = '2021-09-27 월요일'\r\n",
        "c = date.split()[1]\r\n",
        "print(c)"
      ],
      "outputs": [
        {
          "output_type": "execute_result",
          "data": {
            "application/vnd.google.colaboratory.intrinsic+json": {
              "type": "string"
            },
            "text/plain": [
              "'월요일'"
            ]
          },
          "metadata": {},
          "execution_count": 4
        }
      ],
      "metadata": {
        "colab": {
          "base_uri": "https://localhost:8080/",
          "height": 35
        },
        "id": "aDiUPNBCg3Nr",
        "outputId": "74c2f6e2-3595-4aa7-fda0-a6f8b951d2db"
      }
    },
    {
      "cell_type": "markdown",
      "source": [
        "## **리스트와 제어구조**\r\n",
        "\r\n"
      ],
      "metadata": {
        "id": "1pT_5YTyXc_y"
      }
    },
    {
      "cell_type": "markdown",
      "source": [
        "> list()와 range()함수로 리스트 생성하기\r\n",
        "```\r\n",
        "lst = list(range(1, 21, 2))\r\n",
        "lst\r\n",
        "lst[3:7] # 인덱스3~인덱스6 - 3,4,5,6번째 요소 \r\n",
        "lst[::]  # 전 범위\r\n",
        "lst[::2] # 짝수번째 글자 추출\r\n",
        "lst[1::2] # 홀수번째 글자 추출\r\n",
        "```"
      ],
      "metadata": {
        "id": "37SxeebR0FaU"
      }
    },
    {
      "cell_type": "code",
      "execution_count": 11,
      "source": [
        "# 실습\r\n",
        "for i in range(1, 20, 4): # 1 ~ 20 까지 2씩 증가..\r\n",
        "  print(i)\r\n"
      ],
      "outputs": [
        {
          "output_type": "stream",
          "name": "stdout",
          "text": [
            "1\n",
            "5\n",
            "9\n",
            "13\n",
            "17\n"
          ]
        }
      ],
      "metadata": {
        "id": "1Fd4lMF40EiW"
      }
    },
    {
      "cell_type": "markdown",
      "source": [
        "> for 문 리스트 활용\r\n",
        "```\r\n",
        "flavors = ['바닐라', '민트초코', '초코', '스트로베리', '월넛']\r\n",
        "for flavor in flavors:\r\n",
        "    print(f'My favorite flavor is {flavor}')\r\n",
        "```"
      ],
      "metadata": {
        "id": "uGtootfB0n0Y"
      }
    },
    {
      "cell_type": "code",
      "execution_count": 4,
      "source": [
        "# 실습\r\n",
        "flavors = ['바닐라', '민트초코', '초코', '스트로베리', '월넛']\r\n",
        "for flavor in flavors:\r\n",
        "    print(f'My favorite flavor is {flavor}')"
      ],
      "outputs": [
        {
          "output_type": "stream",
          "name": "stdout",
          "text": [
            "My favorite flavor is 바닐라\n",
            "My favorite flavor is 민트초코\n",
            "My favorite flavor is 초코\n",
            "My favorite flavor is 스트로베리\n",
            "My favorite flavor is 월넛\n"
          ]
        }
      ],
      "metadata": {
        "id": "VjhMbpoi24yW"
      }
    },
    {
      "cell_type": "markdown",
      "source": [
        "### 1) for a in data 에서 data에 리스트를 넣을 때 \n",
        "다음의 모든 원소를 차례대로 출력하시오 \n",
        "\n",
        "```\n",
        "kakaopay = [25, 36, 80, 53, 24, 56]\n",
        "```"
      ],
      "metadata": {
        "id": "pPBjhOn1X4z5"
      }
    },
    {
      "cell_type": "code",
      "execution_count": null,
      "source": [
        "kakaopay = [25, 36, 80, 53, 24, 56]"
      ],
      "outputs": [],
      "metadata": {
        "id": "UqLSkH7OX3qS"
      }
    },
    {
      "cell_type": "code",
      "execution_count": 5,
      "source": [
        "# 50이상을 출력하시오\r\n",
        "kakaopay = [25, 36, 80, 53, 24, 56]\r\n",
        "for i in range(6):\r\n",
        "  if(kakaopay[i]>=50):\r\n",
        "    print(kakaopay[i])\r\n",
        "    "
      ],
      "outputs": [
        {
          "output_type": "stream",
          "name": "stdout",
          "text": [
            "80\n",
            "53\n",
            "56\n"
          ]
        }
      ],
      "metadata": {
        "id": "WG3wl-sStw4-"
      }
    },
    {
      "cell_type": "markdown",
      "source": [
        "\n",
        "\n",
        "### 2) for a in data 에서 data에 range()를 넣을 때\n"
      ],
      "metadata": {
        "id": "6PjVJDc2wAFF"
      }
    },
    {
      "cell_type": "code",
      "execution_count": 2,
      "source": [
        "# 인덱스를 활용하고 싶을 때 range()\r\n",
        "kakaopay = [25, 36, 80, 53, 24, 56]\r\n",
        "for i in range(1, len(kakaopay)):\r\n",
        "  print(f'{i}월 지출 {kakaopay[i]},000원')"
      ],
      "outputs": [
        {
          "output_type": "stream",
          "name": "stdout",
          "text": [
            "1월 지출 36,000원\n",
            "2월 지출 80,000원\n",
            "3월 지출 53,000원\n",
            "4월 지출 24,000원\n",
            "5월 지출 56,000원\n"
          ]
        }
      ],
      "metadata": {
        "id": "VnjOn4sEwAFF"
      }
    },
    {
      "cell_type": "code",
      "execution_count": 3,
      "source": [
        "# len() 활용하기\r\n",
        "\r\n",
        "kakaopay = [25, 36, 80, 53, 24, 56]\r\n",
        "for i in range(1, len(kakaopay)):\r\n",
        "  print(f'{i}월 지출 {kakaopay[i]},000원')"
      ],
      "outputs": [
        {
          "output_type": "stream",
          "name": "stdout",
          "text": [
            "1월 지출 36,000원\n",
            "2월 지출 80,000원\n",
            "3월 지출 53,000원\n",
            "4월 지출 24,000원\n",
            "5월 지출 56,000원\n"
          ]
        }
      ],
      "metadata": {
        "colab": {
          "base_uri": "https://localhost:8080/"
        },
        "id": "rVn5bGGbwAFG",
        "outputId": "e1a98bae-9ec7-41a9-c3c0-e27a5b4a8ff9"
      }
    },
    {
      "cell_type": "code",
      "execution_count": null,
      "source": [
        "# range()가 0부터 시작하면 생략 가능\r\n",
        "for i in range(len(kakaopay)) :\r\n",
        "    print(f'{i + 1}월 지출: {kakaopay[i]}원')"
      ],
      "outputs": [],
      "metadata": {
        "id": "8wZg0njGtw4_"
      }
    },
    {
      "cell_type": "markdown",
      "source": [
        "## 이차원 리스트\n",
        "\n",
        "<img src ='https://github.com/teacher-jiejie/allinone_AI/blob/images/14_%EC%9D%B4%EC%B0%A8%EC%9B%90%20%EB%A6%AC%EC%8A%A4%ED%8A%B8.png?raw=true' width = 500>"
      ],
      "metadata": {
        "id": "Mliij-AiZr4_"
      }
    },
    {
      "cell_type": "code",
      "execution_count": 5,
      "source": [
        "# 실습\r\n",
        "lst = [[1],[2],[3]]\r\n",
        "print(lst[0][0])\r\n",
        "print(lst[1][0])\r\n",
        "print(lst[2][0])\r\n"
      ],
      "outputs": [
        {
          "output_type": "stream",
          "name": "stdout",
          "text": [
            "1\n",
            "2\n",
            "3\n"
          ]
        }
      ],
      "metadata": {
        "id": "dhhb0BtzZzfi"
      }
    },
    {
      "cell_type": "markdown",
      "source": [
        "### 1) 이차원 리스트의 인덱스\n",
        "\n",
        "<img src = 'https://github.com/teacher-jiejie/allinone_AI/blob/images/15_%EC%9D%B4%EC%B0%A8%EC%9B%90%20%EB%A6%AC%EC%8A%A4%ED%8A%B8%20%EC%9D%B8%EB%8D%B1%EC%8A%A4.png?raw=true' width = 600>"
      ],
      "metadata": {
        "id": "IROs-Ha0yUj2"
      }
    },
    {
      "cell_type": "code",
      "execution_count": null,
      "source": [
        "# 1 출력하기"
      ],
      "outputs": [
        {
          "output_type": "stream",
          "name": "stdout",
          "text": [
            "1\n"
          ]
        },
        {
          "output_type": "execute_result",
          "data": {
            "text/plain": [
              "[1, 2, 3]"
            ]
          },
          "metadata": {},
          "execution_count": 12
        }
      ],
      "metadata": {
        "id": "1U_e8JPXul-I",
        "colab": {
          "base_uri": "https://localhost:8080/"
        },
        "outputId": "6aa8ca69-be09-412b-9719-53c9ca657929"
      }
    },
    {
      "cell_type": "markdown",
      "source": [
        "(연습) 이차원 리스트 abc에서 인덱스를 활용해 다음 숫자를 출력하시오"
      ],
      "metadata": {
        "id": "-bcfTuieldf0"
      }
    },
    {
      "cell_type": "code",
      "execution_count": null,
      "source": [
        "#3"
      ],
      "outputs": [
        {
          "output_type": "stream",
          "name": "stdout",
          "text": [
            "3\n"
          ]
        }
      ],
      "metadata": {
        "id": "ME-RYjZvYmwF",
        "outputId": "bba1bdb5-6aa6-497a-f59f-31a881c26899"
      }
    },
    {
      "cell_type": "code",
      "execution_count": null,
      "source": [
        "#5"
      ],
      "outputs": [
        {
          "output_type": "stream",
          "name": "stdout",
          "text": [
            "5\n"
          ]
        }
      ],
      "metadata": {
        "id": "5OU1GF05YmjU",
        "outputId": "98aeef7d-2214-4dbf-b850-2e5289aab5fe"
      }
    },
    {
      "cell_type": "markdown",
      "source": [
        "### 2) 반복문과 이차원 리스트"
      ],
      "metadata": {
        "id": "2YUUytTsftU5"
      }
    },
    {
      "cell_type": "code",
      "execution_count": null,
      "source": [
        "for row in abc : \r\n",
        "    print(row)"
      ],
      "outputs": [],
      "metadata": {
        "id": "vIwkSkIuyYwV"
      }
    },
    {
      "cell_type": "markdown",
      "source": [
        "> ### 이차원 리스트 반복 원리\n",
        "\n",
        "<img src = 'https://github.com/teacher-jiejie/allinone_AI/blob/images/16_%EC%9D%B4%EC%B0%A8%EC%9B%90%20%EB%A6%AC%EC%8A%A4%ED%8A%B8%20%EB%B0%98%EB%B3%B5%EA%B5%AC%EC%A1%B0.png?raw=true' width=800>"
      ],
      "metadata": {
        "id": "-bbMjsKVyY4B"
      }
    },
    {
      "cell_type": "code",
      "execution_count": null,
      "source": [
        "# 모든 줄의 첫번째 데이터만 출력\r\n",
        "print([0][0])\r\n",
        "print([1][0])\r\n",
        "print([2][0])\r\n",
        "\r\n"
      ],
      "outputs": [
        {
          "output_type": "stream",
          "name": "stdout",
          "text": [
            "1\n",
            "4\n",
            "7\n"
          ]
        }
      ],
      "metadata": {
        "id": "t4LqJgCdyh03",
        "outputId": "0b6af949-1d02-4de3-8190-30b56653807d"
      }
    },
    {
      "cell_type": "code",
      "execution_count": null,
      "source": [
        "# 모든 줄의 마지막 데이터(세번째 열)만 출력\r\n",
        "for row in range:\r\n",
        "  print(lst[-1])\r\n"
      ],
      "outputs": [],
      "metadata": {
        "id": "N3J7nAOrrTWs"
      }
    },
    {
      "cell_type": "markdown",
      "source": [
        "###(해결문제) 다음 리스트 a 에 들어있는 문자열에서 길이가 5인 요소들만 출력하시오.<p>\n",
        "NATO phonetic alphabet : 알파벳의 각 글자를 나타내는 단어의 집합이다. 무선 통신이나 소음이 많은 곳에서 의미를 분명하게 전달하기 위해 사용된다. 예를 들어 비행기가 A유도로를 지나서 Z유도로를 간다고 하면 에이에이, 지라고 말하지 않고 알파알파, 줄루라고 발음한다.\n",
        "```\n",
        "a = ['alpha', 'bravo', 'charlie', 'delta', 'echo', 'foxtrot', 'golf', 'hotel', 'india']\n",
        "```"
      ],
      "metadata": {
        "id": "99MzQYSXtw5C"
      }
    },
    {
      "cell_type": "code",
      "execution_count": 7,
      "source": [
        "# for문 사용\r\n",
        "a = ['alpha', 'bravo', 'charlie', 'delta', 'echo', 'foxtrot', 'golf', 'hotel', 'india']\r\n",
        "for i in a:\r\n",
        "  if(len(i)==5):\r\n",
        "    print(i)\r\n"
      ],
      "outputs": [
        {
          "output_type": "stream",
          "name": "stdout",
          "text": [
            "alpha\n",
            "bravo\n",
            "delta\n",
            "hotel\n",
            "india\n"
          ]
        }
      ],
      "metadata": {
        "id": "jFIja-A0tw5C",
        "colab": {
          "base_uri": "https://localhost:8080/"
        },
        "outputId": "1b2aa416-bc8b-4b92-8e1f-a2f2c4d9f283"
      }
    },
    {
      "cell_type": "code",
      "execution_count": null,
      "source": [
        "# 리스트 내포\r\n",
        "# [i for i in a if len(i) == 5]\r\n"
      ],
      "outputs": [],
      "metadata": {
        "id": "DFzsRZnoplZz"
      }
    },
    {
      "cell_type": "markdown",
      "source": [
        "## (점프) 리스트 내포(List Comprehension)\n",
        ": 리스트 안에 식, for 반복문 등을 지정하여 리스트를 생성하는 것<br>\n",
        ": 리스트를 쉽게, 짧게 한 줄로 만들 수 있는 파이썬의 문법\n",
        "\n",
        "```\n",
        "numList = [num for num in range(1,6)]\n",
        "```"
      ],
      "metadata": {
        "id": "nFXPtHfStw5C"
      }
    },
    {
      "cell_type": "code",
      "execution_count": 8,
      "source": [
        "numList = [num for num in range(1,6)]\r\n",
        "numList"
      ],
      "outputs": [
        {
          "output_type": "execute_result",
          "data": {
            "text/plain": [
              "[1, 2, 3, 4, 5]"
            ]
          },
          "metadata": {},
          "execution_count": 8
        }
      ],
      "metadata": {
        "id": "UqXuJ3M9tw5C"
      }
    },
    {
      "cell_type": "markdown",
      "source": [
        "<img src = 'https://dojang.io/pluginfile.php/8968/mod_page/content/3/023003.png?raw=true' width = 600>"
      ],
      "metadata": {
        "id": "fc5stCqPVtXr"
      }
    },
    {
      "cell_type": "markdown",
      "source": [
        "> (해결문제) \n",
        "1. 0~20 사이 짝수를 구하고, 제곱한 결과를 새로운 리스트로 생성하시오\n",
        "2. 리스트 내포를 사용하여 구구단을 출력하시오.(2x1=2, 2x2=4..., 9x9=81)"
      ],
      "metadata": {
        "id": "NINgweDX_K6i"
      }
    },
    {
      "cell_type": "code",
      "execution_count": 14,
      "source": [
        "# 반복문 사용 리스트 생성- 0~20 사이 짝수를 구하고 제곱한 결과를 새로운 리스트로 생성\r\n",
        "for i in range(0,21,2):\r\n",
        "  print(i)\r\n",
        "\r\n",
        "# 리스트 안에 for문 사용\r\n",
        "numList = [i for i in range(0,21,2)]\r\n",
        "numList\r\n",
        "# if 문 조합\r\n",
        "# [i*i for i in range(0,20,2) if i*i >= 100]\r\n",
        "numList=[i*i for i in range(0,21,2) if i*i >= 400]\r\n",
        "numList"
      ],
      "outputs": [
        {
          "output_type": "stream",
          "name": "stdout",
          "text": [
            "0\n",
            "2\n",
            "4\n",
            "6\n",
            "8\n",
            "10\n",
            "12\n",
            "14\n",
            "16\n",
            "18\n",
            "20\n"
          ]
        },
        {
          "output_type": "execute_result",
          "data": {
            "text/plain": [
              "[400]"
            ]
          },
          "metadata": {},
          "execution_count": 14
        }
      ],
      "metadata": {
        "id": "K_nY9Zw_tw5C"
      }
    },
    {
      "cell_type": "code",
      "execution_count": 16,
      "source": [
        "# 중첩 for 문 구구단 출력\r\n",
        "  gugu = for i in range(2,10):\r\n",
        "          for j in range(2, 10):\r\n",
        "            print('{} X {} = {} '.format(i, j, i*j))\r\n",
        "  \r\n",
        "gugu"
      ],
      "outputs": [
        {
          "output_type": "execute_result",
          "data": {
            "text/plain": [
              "[2, 3, 4, 5, 6, 7, 8, 9]"
            ]
          },
          "metadata": {},
          "execution_count": 16
        }
      ],
      "metadata": {
        "id": "lH4zZ69HnMQb"
      }
    },
    {
      "cell_type": "code",
      "execution_count": 20,
      "source": [
        "# 짝수단만\r\n",
        "gugu = []\r\n",
        "for j in range(2, 10):\r\n",
        "  for i in range(2,10):\r\n",
        "    if j % 2 == 0:\r\n",
        "      print('{}X{}={}'.format(j,i,i*j))"
      ],
      "outputs": [
        {
          "output_type": "stream",
          "name": "stdout",
          "text": [
            "2X2=4\n",
            "2X3=6\n",
            "2X4=8\n",
            "2X5=10\n",
            "2X6=12\n",
            "2X7=14\n",
            "2X8=16\n",
            "2X9=18\n",
            "4X2=8\n",
            "4X3=12\n",
            "4X4=16\n",
            "4X5=20\n",
            "4X6=24\n",
            "4X7=28\n",
            "4X8=32\n",
            "4X9=36\n",
            "6X2=12\n",
            "6X3=18\n",
            "6X4=24\n",
            "6X5=30\n",
            "6X6=36\n",
            "6X7=42\n",
            "6X8=48\n",
            "6X9=54\n",
            "8X2=16\n",
            "8X3=24\n",
            "8X4=32\n",
            "8X5=40\n",
            "8X6=48\n",
            "8X7=56\n",
            "8X8=64\n",
            "8X9=72\n"
          ]
        }
      ],
      "metadata": {
        "id": "0GJ9vVN1nQ1m"
      }
    },
    {
      "cell_type": "code",
      "execution_count": null,
      "source": [
        "# 구구단 출력 리스트 내포"
      ],
      "outputs": [],
      "metadata": {
        "id": "kNCZcCNvtw5D"
      }
    },
    {
      "cell_type": "code",
      "execution_count": null,
      "source": [
        "# f string"
      ],
      "outputs": [],
      "metadata": {
        "id": "8aM6KDlOnVs9"
      }
    },
    {
      "cell_type": "code",
      "execution_count": null,
      "source": [
        "# 짝수, 홀수단"
      ],
      "outputs": [],
      "metadata": {
        "id": "5gdcG0MQnW9F"
      }
    },
    {
      "cell_type": "markdown",
      "source": [
        "## (점프) enumerate()\n",
        ": 리스트의 요소를 반복할 때 현재 인덱스가 몇번째인지 확인해야하는 경우\n",
        "https://docs.python.org/ko/3/library/functions.html#enumerate\n",
        "```\n",
        "seasons = ['Spring', 'Summer', 'Fall', 'Winter']\n",
        "list(enumerate(seasons))\n",
        "[(0, 'Spring'), (1, 'Summer'), (2, 'Fall'), (3, 'Winter')]\n",
        "list(enumerate(seasons, start=1))\n",
        "[(1, 'Spring'), (2, 'Summer'), (3, 'Fall'), (4, 'Winter')]\n",
        "```\n",
        "\n",
        "1. in a:\n",
        "```\n",
        "for item in a:\n",
        "    print(i, item)\n",
        "    i += 1\n",
        "```\n",
        "2. len()\n",
        "```\n",
        "for i in range(len(a)):\n",
        "    print(i, a[i])\n",
        "```\n",
        "3. enumerate()\n",
        "```\n",
        "for i, value in enumerate(a):\n",
        "    print(i, value)\n",
        "```"
      ],
      "metadata": {
        "id": "F_KC3_NAtw5D"
      }
    },
    {
      "cell_type": "code",
      "execution_count": null,
      "source": [
        "#방법 1\r\n",
        "a = ['a', 'b', 'c']\r\n",
        "i = 0\r\n",
        "\r\n"
      ],
      "outputs": [],
      "metadata": {
        "id": "1zQm3OpXAKV4"
      }
    },
    {
      "cell_type": "code",
      "execution_count": null,
      "source": [
        "#방법 2 len()\r\n"
      ],
      "outputs": [],
      "metadata": {
        "id": "rHU6T2IhApZA"
      }
    },
    {
      "cell_type": "code",
      "execution_count": null,
      "source": [
        "#방법 3 enumerate()\r\n"
      ],
      "outputs": [],
      "metadata": {
        "id": "0ZBSWM7EA2uG"
      }
    },
    {
      "cell_type": "markdown",
      "source": [
        "## (해결문제) 올림픽 데이터"
      ],
      "metadata": {
        "id": "0QKBAczacR30"
      }
    },
    {
      "cell_type": "markdown",
      "source": [
        "<img src = \"https://img7.yna.co.kr/etc/graphic/YH/2021/08/08/GYH2021080800140004400_P4.jpg?\"  width=300>\n",
        "\n",
        "```\n",
        "data =[[1,'미국',39,41,33,113],[2,'중국',38,32,18,88],[3,'일본',26,18,26,70],[4,'영국',19,18,19,56],[5,'독일',17,10,15,42],[6,'일본',12,8,21,41],[7,'프랑스',10,18,14,42],[8,'대한민국',9,3,9,21]]\n",
        "```"
      ],
      "metadata": {
        "id": "d6dCJqHYaDHw"
      }
    },
    {
      "cell_type": "code",
      "execution_count": null,
      "source": [
        "data =[\r\n",
        "       [1,'미국',39,41,33,113],\r\n",
        "       [2,'중국',38,32,18,88],\r\n",
        "       [3,'일본',26,18,26,70],\r\n",
        "       [4,'영국',19,18,19,56],\r\n",
        "       [5,'독일',17,10,15,42],\r\n",
        "       [6,'일본',12,8,21,41],\r\n",
        "       [7,'프랑스',10,18,14,42],\r\n",
        "       [8,'대한민국',9,3,9,21] \r\n",
        "       ]"
      ],
      "outputs": [],
      "metadata": {
        "id": "NIc2gCk0tw5D"
      }
    },
    {
      "cell_type": "code",
      "execution_count": 26,
      "source": [
        "# 순위권에 든 모든 국가를 출력하시오\r\n",
        "data =[\r\n",
        "       [1,'미국',39,41,33,113],\r\n",
        "       [2,'중국',38,32,18,88],\r\n",
        "       [3,'일본',26,18,26,70],\r\n",
        "       [4,'영국',19,18,19,56],\r\n",
        "       [5,'독일',17,10,15,42],\r\n",
        "       [6,'일본',12,8,21,41],\r\n",
        "       [7,'프랑스',10,18,14,42],\r\n",
        "       [8,'대한민국',9,3,9,21] \r\n",
        "       ]\r\n",
        "for row in data:\r\n",
        "       if(row[2]<row[3]):\r\n",
        "              print(row[1])\r\n",
        "   "
      ],
      "outputs": [
        {
          "output_type": "stream",
          "name": "stdout",
          "text": [
            "미국\n",
            "프랑스\n"
          ]
        }
      ],
      "metadata": {
        "id": "T_TglCBacPcP",
        "outputId": "b3f4e3ec-d536-4266-e198-f14970106316"
      }
    },
    {
      "cell_type": "code",
      "execution_count": null,
      "source": [
        "# 금메달보다 은메달 개수가 많은 나라를 출력하시오\r\n",
        "data =[\r\n",
        "       [1,'미국',39,41,33,113],\r\n",
        "       [2,'중국',38,32,18,88],\r\n",
        "       [3,'일본',26,18,26,70],\r\n",
        "       [4,'영국',19,18,19,56],\r\n",
        "       [5,'독일',17,10,15,42],\r\n",
        "       [6,'일본',12,8,21,41],\r\n",
        "       [7,'프랑스',10,18,14,42],\r\n",
        "       [8,'대한민국',9,3,9,21] \r\n",
        "       ]\r\n",
        "for row in data : \r\n",
        "    if row[2] < row[3] :\r\n",
        "        print(data)"
      ],
      "outputs": [
        {
          "output_type": "stream",
          "name": "stdout",
          "text": [
            "미국 금: 39 은: 41\n",
            "프랑스 금: 10 은: 18\n"
          ]
        }
      ],
      "metadata": {
        "id": "lW5Zs3zKdVV8",
        "outputId": "42bb2cc7-30da-4e7a-b9f9-320f44cd9fda"
      }
    },
    {
      "cell_type": "code",
      "execution_count": null,
      "source": [
        "# 금메달보다 동메달 개수가 많은 나라를 출력하시오\r\n",
        "data =[\r\n",
        "       [1,'미국',39,41,33,113],\r\n",
        "       [2,'중국',38,32,18,88],\r\n",
        "       [3,'일본',26,18,26,70],\r\n",
        "       [4,'영국',19,18,19,56],\r\n",
        "       [5,'독일',17,10,15,42],\r\n",
        "       [6,'일본',12,8,21,41],\r\n",
        "       [7,'프랑스',10,18,14,42],\r\n",
        "       [8,'대한민국',9,3,9,21] \r\n",
        "       ]\r\n",
        "for row in data : \r\n",
        "    if row[2] < row[3] :\r\n",
        "        print(data)"
      ],
      "outputs": [
        {
          "output_type": "stream",
          "name": "stdout",
          "text": [
            "일본 금: 12 동: 21\n",
            "프랑스 금: 10 동: 14\n"
          ]
        }
      ],
      "metadata": {
        "id": "Nis355WsdXCm",
        "outputId": "17d45c86-867b-4e10-c774-ff4a459c1f20"
      }
    },
    {
      "cell_type": "code",
      "execution_count": 31,
      "source": [
        "# 모든 나라의 금,은,동 메달 합을 구하여 출력하시오.\r\n",
        "data =[\r\n",
        "       [1,'미국',39,41,33,113],\r\n",
        "       [2,'중국',38,32,18,88],\r\n",
        "       [3,'일본',26,18,26,70],\r\n",
        "       [4,'영국',19,18,19,56],\r\n",
        "       [5,'독일',17,10,15,42],\r\n",
        "       [6,'일본',12,8,21,41],\r\n",
        "       [7,'프랑스',10,18,14,42],\r\n",
        "       [8,'대한민국',9,3,9,21] \r\n",
        "       ]\r\n",
        "\r\n",
        "for i in data:\r\n",
        "       print(data[i][5])\r\n"
      ],
      "outputs": [
        {
          "output_type": "error",
          "ename": "TypeError",
          "evalue": "list indices must be integers or slices, not list",
          "traceback": [
            "\u001b[1;31m---------------------------------------------------------------------------\u001b[0m",
            "\u001b[1;31mTypeError\u001b[0m                                 Traceback (most recent call last)",
            "\u001b[1;32m~\\AppData\\Local\\Temp/ipykernel_8960/1682881455.py\u001b[0m in \u001b[0;36m<module>\u001b[1;34m\u001b[0m\n\u001b[0;32m     12\u001b[0m \u001b[1;33m\u001b[0m\u001b[0m\n\u001b[0;32m     13\u001b[0m \u001b[1;32mfor\u001b[0m \u001b[0mi\u001b[0m \u001b[1;32min\u001b[0m \u001b[0mdata\u001b[0m\u001b[1;33m:\u001b[0m\u001b[1;33m\u001b[0m\u001b[1;33m\u001b[0m\u001b[0m\n\u001b[1;32m---> 14\u001b[1;33m        \u001b[0mprint\u001b[0m\u001b[1;33m(\u001b[0m\u001b[0mdata\u001b[0m\u001b[1;33m[\u001b[0m\u001b[0mi\u001b[0m\u001b[1;33m]\u001b[0m\u001b[1;33m[\u001b[0m\u001b[1;36m5\u001b[0m\u001b[1;33m]\u001b[0m\u001b[1;33m)\u001b[0m\u001b[1;33m\u001b[0m\u001b[1;33m\u001b[0m\u001b[0m\n\u001b[0m",
            "\u001b[1;31mTypeError\u001b[0m: list indices must be integers or slices, not list"
          ]
        }
      ],
      "metadata": {
        "id": "zFFpCrKzdbwW"
      }
    },
    {
      "cell_type": "markdown",
      "source": [
        "## (해결문제) 다음 리스트의 숫자를 하나씩 모두 출력하시오.\n",
        "\n",
        "```\n",
        "list_of_list = [[1,2,3],[4,5,6,7],[8,9,10]]\n",
        "```\n",
        "```\n",
        "(출력)\n",
        "1,2,3,4,5,6,7,8,9,10,\n",
        "```"
      ],
      "metadata": {
        "id": "DBBsEWgYtw5E"
      }
    },
    {
      "cell_type": "code",
      "execution_count": null,
      "source": [
        "lst = [[1,2,3],[4,5,6,7],[8,9,10]]"
      ],
      "outputs": [
        {
          "output_type": "stream",
          "name": "stdout",
          "text": [
            "1,2,3,4,5,6,7,8,9,10,"
          ]
        }
      ],
      "metadata": {
        "id": "KcRvHzrHtw5E",
        "outputId": "b8f183d8-f0fd-4818-f648-a0a345bcbc03"
      }
    },
    {
      "cell_type": "markdown",
      "source": [
        "# 튜플(tuple)\n",
        "+ 튜플의 각 요소는 순서를 가지고 있음\n",
        "+ 괄호(())로 작성되며 각 요소는 쉼표(,)로 구분\n",
        "+ 요소를 추가, 수정, 삭제 불가능\n",
        "+ 한번 결정된 요소는 변경 불가능\n",
        "+ 인덱싱과 슬라이싱은 리스트와 동일\n",
        "+ $+$와 $*$연산은 리스트와 동일\n",
        "+ 각 요소에 변수 할당 가능\n",
        " - x, y = (10, 20)\n"
      ],
      "metadata": {
        "id": "0JLMN__7LVoy"
      }
    },
    {
      "cell_type": "code",
      "execution_count": null,
      "source": [
        "# 튜플\n",
        "tp = (10, 20, 30)\n",
        "\n",
        "# 인덱싱과 슬라이싱은 리스트와 동일\n",
        "print(f'tp[0] = {tp[0]}')\n",
        "print(f'tp[:2] = {tp[:2]}')\n",
        "\n",
        "# + 와 * 연산은 리스트와 동일\n",
        "tp = tp * 3\n",
        "print(f'tp * 3 = {tp}')\n",
        "\n",
        "# 각 요소에 변수 할당 가능\n",
        "tpx, tpy = (10, 20)\n",
        "print(f'tpx = {tpx}, tpy = {tpy}')\n",
        "\n",
        "# 요소 추가, 수정, 삭제 불가능 - 튜플의 특징\n",
        "# 한번 결정된 요소는 변경 불가능"
      ],
      "outputs": [
        {
          "output_type": "stream",
          "name": "stdout",
          "text": [
            "tp[0] = 10\n",
            "tp[:2] = (10, 20)\n",
            "tp * 3 = (10, 20, 30, 10, 20, 30, 10, 20, 30)\n",
            "tpx = 10, tpy = 20\n"
          ]
        }
      ],
      "metadata": {
        "id": "GCa3CaQwtw5F",
        "colab": {
          "base_uri": "https://localhost:8080/"
        },
        "outputId": "0e9de31c-b621-4d83-d3c4-ce0860b38708"
      }
    },
    {
      "cell_type": "markdown",
      "source": [
        "(해결문제) 다음을 실행했을 때 나타나는 에러메세지를 해석하시오.\n",
        "```\n",
        "tp[0] = 100\n",
        "```"
      ],
      "metadata": {
        "id": "_DfqQ-WOEjLT"
      }
    },
    {
      "cell_type": "code",
      "execution_count": null,
      "source": [
        "tp[0] = 100"
      ],
      "outputs": [],
      "metadata": {
        "id": "cYjuCA3mEcR3"
      }
    },
    {
      "cell_type": "markdown",
      "source": [
        "#### You've been through a lot today, Good Job! <br> It must have been tough, <br> Have a rest!, Let's call it a day!"
      ],
      "metadata": {
        "id": "GXYGHjvMtw5F"
      }
    }
  ]
}